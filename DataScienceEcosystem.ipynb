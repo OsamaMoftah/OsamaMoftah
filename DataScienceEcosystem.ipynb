{
  "nbformat": 4,
  "nbformat_minor": 0,
  "metadata": {
    "colab": {
      "provenance": [],
      "authorship_tag": "ABX9TyMTbd4LwVHvm2YeoNmAk4Po",
      "include_colab_link": true
    },
    "kernelspec": {
      "name": "python3",
      "display_name": "Python 3"
    },
    "language_info": {
      "name": "python"
    }
  },
  "cells": [
    {
      "cell_type": "markdown",
      "metadata": {
        "id": "view-in-github",
        "colab_type": "text"
      },
      "source": [
        "<a href=\"https://colab.research.google.com/github/OsamaMoftah/OsamaMoftah/blob/main/DataScienceEcosystem.ipynb\" target=\"_parent\"><img src=\"https://colab.research.google.com/assets/colab-badge.svg\" alt=\"Open In Colab\"/></a>"
      ]
    },
    {
      "cell_type": "markdown",
      "source": [
        "# Data Science Tools and Ecosystem"
      ],
      "metadata": {
        "id": "Bb2TslpxGUbg"
      }
    },
    {
      "cell_type": "markdown",
      "source": [
        "In this notebook, Data Science Tools and Ecosystem are summarized.\n"
      ],
      "metadata": {
        "id": "BTzfOLkSHDyO"
      }
    },
    {
      "cell_type": "markdown",
      "source": [
        "Some of the popular languages that Data Scientists use are:\n",
        "\n",
        "\n",
        "1.   Python\n",
        "2.   R\n",
        "3.   Julia\n",
        "\n"
      ],
      "metadata": {
        "id": "yZvQU1scHh6n"
      }
    },
    {
      "cell_type": "markdown",
      "source": [
        "Some of the commonly used libraries used by Data Scientists include:\n",
        "\n",
        "\n",
        "1.   Panda\n",
        "2.   Pytorch\n",
        "3.   Seaborn\n",
        "4.   Matplotlib\n",
        "\n"
      ],
      "metadata": {
        "id": "7O8mezXIH7wQ"
      }
    },
    {
      "cell_type": "markdown",
      "source": [],
      "metadata": {
        "id": "fCU49yYCj3ht"
      }
    },
    {
      "cell_type": "markdown",
      "source": [
        "| Data Science Tools          |\n",
        "|-----------------------------|\n",
        "| Jupyter Notebook            |\n",
        "| RStudio                     |\n",
        "| Visual Studio Code (VS Code)|"
      ],
      "metadata": {
        "id": "fBPWa-twIsv4"
      }
    },
    {
      "cell_type": "markdown",
      "source": [],
      "metadata": {
        "id": "suc7OrXBj7B4"
      }
    },
    {
      "cell_type": "markdown",
      "source": [
        "### Below are a few examples of evaluating arithmetic expressions in Python.\n",
        "\n"
      ],
      "metadata": {
        "id": "JGDfBUgILrqG"
      }
    },
    {
      "cell_type": "code",
      "source": [
        "# This is a simple arithmetic expression to mutiply then add integers\n",
        "(3*4)+5."
      ],
      "metadata": {
        "colab": {
          "base_uri": "https://localhost:8080/"
        },
        "id": "1IRWMAIgML1Y",
        "outputId": "7fde3402-e0a7-40c5-c332-aa204a274a1a"
      },
      "execution_count": 3,
      "outputs": [
        {
          "output_type": "execute_result",
          "data": {
            "text/plain": [
              "17.0"
            ]
          },
          "metadata": {},
          "execution_count": 3
        }
      ]
    },
    {
      "cell_type": "code",
      "source": [
        "# This will convert 200 minutes to hours by dividing by 60\n",
        "hours = 200 / 60\n",
        "hours"
      ],
      "metadata": {
        "colab": {
          "base_uri": "https://localhost:8080/"
        },
        "id": "k8s3yGbCjMbs",
        "outputId": "1fd8b202-e2e1-429f-f7f5-cead75983f97"
      },
      "execution_count": 1,
      "outputs": [
        {
          "output_type": "execute_result",
          "data": {
            "text/plain": [
              "3.3333333333333335"
            ]
          },
          "metadata": {},
          "execution_count": 1
        }
      ]
    },
    {
      "cell_type": "markdown",
      "source": [
        "**Objectives:**\n",
        "\n",
        "- Popular languages for Data Science  \n",
        "- Commonly used arithmatic operations in Python  \n",
        "- Commonly used libraries used by Data Scientists  \n",
        "- Convert data between different formats (e.g., minutes to hours)  \n",
        "- Understanding the role of tools in the Data Science ecosystem  "
      ],
      "metadata": {
        "id": "fabxEkfyj8q0"
      }
    },
    {
      "cell_type": "markdown",
      "source": [
        "## Author\n",
        "\n",
        "Sam M."
      ],
      "metadata": {
        "id": "24Bc9mo8kyFH"
      }
    }
  ]
}